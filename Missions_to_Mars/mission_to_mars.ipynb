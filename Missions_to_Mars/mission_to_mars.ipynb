{
 "cells": [
  {
   "cell_type": "code",
   "execution_count": 1,
   "metadata": {},
   "outputs": [],
   "source": [
    "import pandas as pd \n",
    "from bs4 import BeautifulSoup as bs\n",
    "from webdriver_manager.chrome import ChromeDriverManager\n",
    "from selenium import webdriver\n",
    "from webdriver_manager.chrome import ChromeDriverManager\n",
    "import nbconvert\n",
    "import requests\n",
    "import time\n",
    "from splinter import Browser\n",
    "import json"
   ]
  },
  {
   "cell_type": "code",
   "execution_count": 2,
   "metadata": {},
   "outputs": [
    {
     "name": "stderr",
     "output_type": "stream",
     "text": [
      "\n",
      "\n",
      "====== WebDriver manager ======\n",
      "Current google-chrome version is 91.0.4472\n",
      "Get LATEST driver version for 91.0.4472\n",
      "Driver [C:\\Users\\slaye\\.wdm\\drivers\\chromedriver\\win32\\91.0.4472.19\\chromedriver.exe] found in cache\n"
     ]
    }
   ],
   "source": [
    "executable_path = {'executable_path': ChromeDriverManager().install()}\n",
    "browser = Browser('chrome', **executable_path, headless=False)"
   ]
  },
  {
   "cell_type": "code",
   "execution_count": null,
   "metadata": {},
   "outputs": [],
   "source": []
  },
  {
   "cell_type": "code",
   "execution_count": null,
   "metadata": {},
   "outputs": [],
   "source": []
  },
  {
   "cell_type": "code",
   "execution_count": 3,
   "metadata": {},
   "outputs": [],
   "source": [
    "def mars_news():\n",
    "    url = \"https://redplanetscience.com/\"\n",
    "    browser.visit(url)\n",
    "    html = browser.html\n",
    "    soup = bs(html, \"html.parser\")\n",
    "    title = soup.find('div', class_='content_title').get_text()\n",
    "    paragraph = soup.find('div', class_='article_teaser_body').get_text()\n",
    "    return(f'{title}: {paragraph}')\n"
   ]
  },
  {
   "cell_type": "code",
   "execution_count": 4,
   "metadata": {},
   "outputs": [
    {
     "data": {
      "text/plain": [
       "\"How NASA's Perseverance Mars Team Adjusted to Work in the Time of Coronavirus : Like much of the rest of the world, the Mars rover team is pushing forward with its mission-critical work while putting the health and safety of their colleagues and community first.\""
      ]
     },
     "execution_count": 4,
     "metadata": {},
     "output_type": "execute_result"
    }
   ],
   "source": [
    "mars_news()"
   ]
  },
  {
   "cell_type": "code",
   "execution_count": 5,
   "metadata": {},
   "outputs": [
    {
     "data": {
      "text/plain": [
       "'https://spaceimages-mars.com/image/featured/mars3.jpg'"
      ]
     },
     "execution_count": 5,
     "metadata": {},
     "output_type": "execute_result"
    }
   ],
   "source": [
    "def featured():\n",
    "    url = \"https://spaceimages-mars.com\"\n",
    "    browser.visit(url)\n",
    "    html2 = browser.html\n",
    "    soup = bs(html2,\"html.parser\")\n",
    "    featured_img = soup.find('div', class_='header')\n",
    "    jpg = featured_img.find('a', class_=\"showimg fancybox-thumbs\")\n",
    "    jpg = jpg['href']\n",
    "    featured_img = (f'{url}/{jpg}')\n",
    "    featured_img\n",
    "    return(featured_img)\n",
    "\n",
    "featured()"
   ]
  },
  {
   "cell_type": "code",
   "execution_count": null,
   "metadata": {},
   "outputs": [],
   "source": []
  },
  {
   "cell_type": "code",
   "execution_count": null,
   "metadata": {},
   "outputs": [],
   "source": []
  },
  {
   "cell_type": "code",
   "execution_count": null,
   "metadata": {},
   "outputs": [],
   "source": []
  },
  {
   "cell_type": "code",
   "execution_count": null,
   "metadata": {},
   "outputs": [],
   "source": []
  },
  {
   "cell_type": "code",
   "execution_count": null,
   "metadata": {},
   "outputs": [],
   "source": []
  },
  {
   "cell_type": "code",
   "execution_count": null,
   "metadata": {},
   "outputs": [],
   "source": []
  },
  {
   "cell_type": "code",
   "execution_count": null,
   "metadata": {},
   "outputs": [],
   "source": []
  },
  {
   "cell_type": "code",
   "execution_count": null,
   "metadata": {},
   "outputs": [],
   "source": []
  },
  {
   "cell_type": "code",
   "execution_count": null,
   "metadata": {},
   "outputs": [],
   "source": []
  },
  {
   "cell_type": "code",
   "execution_count": 6,
   "metadata": {},
   "outputs": [],
   "source": [
    "def mars_facts():\n",
    "    url = 'https://galaxyfacts-mars.com/'\n",
    "    tables = pd.read_html(url)\n",
    "    table = tables[1]\n",
    "    df = pd.DataFrame(table)\n",
    "    mars_facts_html = df.to_html()\n",
    "    mars_facts_html = bs(mars_facts_html)\n",
    "    return(mars_facts_html)"
   ]
  },
  {
   "cell_type": "code",
   "execution_count": 7,
   "metadata": {},
   "outputs": [
    {
     "data": {
      "text/plain": [
       "<html><body><table border=\"1\" class=\"dataframe\">\n",
       "<thead>\n",
       "<tr style=\"text-align: right;\">\n",
       "<th></th>\n",
       "<th>0</th>\n",
       "<th>1</th>\n",
       "</tr>\n",
       "</thead>\n",
       "<tbody>\n",
       "<tr>\n",
       "<th>0</th>\n",
       "<td>Equatorial Diameter:</td>\n",
       "<td>6,792 km</td>\n",
       "</tr>\n",
       "<tr>\n",
       "<th>1</th>\n",
       "<td>Polar Diameter:</td>\n",
       "<td>6,752 km</td>\n",
       "</tr>\n",
       "<tr>\n",
       "<th>2</th>\n",
       "<td>Mass:</td>\n",
       "<td>6.39 × 10^23 kg (0.11 Earths)</td>\n",
       "</tr>\n",
       "<tr>\n",
       "<th>3</th>\n",
       "<td>Moons:</td>\n",
       "<td>2 ( Phobos &amp; Deimos )</td>\n",
       "</tr>\n",
       "<tr>\n",
       "<th>4</th>\n",
       "<td>Orbit Distance:</td>\n",
       "<td>227,943,824 km (1.38 AU)</td>\n",
       "</tr>\n",
       "<tr>\n",
       "<th>5</th>\n",
       "<td>Orbit Period:</td>\n",
       "<td>687 days (1.9 years)</td>\n",
       "</tr>\n",
       "<tr>\n",
       "<th>6</th>\n",
       "<td>Surface Temperature:</td>\n",
       "<td>-87 to -5 °C</td>\n",
       "</tr>\n",
       "<tr>\n",
       "<th>7</th>\n",
       "<td>First Record:</td>\n",
       "<td>2nd millennium BC</td>\n",
       "</tr>\n",
       "<tr>\n",
       "<th>8</th>\n",
       "<td>Recorded By:</td>\n",
       "<td>Egyptian astronomers</td>\n",
       "</tr>\n",
       "</tbody>\n",
       "</table></body></html>"
      ]
     },
     "execution_count": 7,
     "metadata": {},
     "output_type": "execute_result"
    }
   ],
   "source": [
    "mars_facts()"
   ]
  },
  {
   "cell_type": "code",
   "execution_count": 8,
   "metadata": {},
   "outputs": [],
   "source": [
    "#url = 'https://marshemispheres.com/'\n",
    "#browser.visit(url)\n",
    "#html4 = browser.html\n",
    "#soup = bs(html4,\"html.parser\")\n",
    "#hemis = soup.find_all('div', class_='description')\n",
    "# for hemi in hemis:\n",
    "#     print(hemi.find('h3').get_text())"
   ]
  },
  {
   "cell_type": "code",
   "execution_count": null,
   "metadata": {},
   "outputs": [],
   "source": []
  },
  {
   "cell_type": "code",
   "execution_count": null,
   "metadata": {},
   "outputs": [],
   "source": []
  },
  {
   "cell_type": "code",
   "execution_count": null,
   "metadata": {},
   "outputs": [],
   "source": []
  },
  {
   "cell_type": "code",
   "execution_count": null,
   "metadata": {},
   "outputs": [],
   "source": []
  },
  {
   "cell_type": "code",
   "execution_count": 9,
   "metadata": {},
   "outputs": [],
   "source": [
    "def hemispheres():\n",
    "    url=\"https://marshemispheres.com/\"\n",
    "    browser.visit(url)\n",
    "    hemisphere_image_urls  = []\n",
    "    my_dict = {'name':[],'title':[]}\n",
    "    for x in range(0,4):\n",
    "        browser.links.find_by_partial_text('Hemisphere')[x].click()\n",
    "        html = browser.html\n",
    "        soup = bs(html,'html.parser')\n",
    "        title = soup.find('h2', class_='title').get_text()\n",
    "        test = soup.find('img', class_='wide-image')\n",
    "        img_url = url+test['src']\n",
    "        my_dict = {'Title':title,'url':img_url}\n",
    "        hemisphere_image_urls.append(my_dict)\n",
    "        browser.back()\n",
    "    return(hemisphere_image_urls)"
   ]
  },
  {
   "cell_type": "code",
   "execution_count": 10,
   "metadata": {},
   "outputs": [
    {
     "data": {
      "text/plain": [
       "[{'Title': 'Cerberus Hemisphere Enhanced',\n",
       "  'url': 'https://marshemispheres.com/images/f5e372a36edfa389625da6d0cc25d905_cerberus_enhanced.tif_full.jpg'},\n",
       " {'Title': 'Schiaparelli Hemisphere Enhanced',\n",
       "  'url': 'https://marshemispheres.com/images/3778f7b43bbbc89d6e3cfabb3613ba93_schiaparelli_enhanced.tif_full.jpg'},\n",
       " {'Title': 'Syrtis Major Hemisphere Enhanced',\n",
       "  'url': 'https://marshemispheres.com/images/555e6403a6ddd7ba16ddb0e471cadcf7_syrtis_major_enhanced.tif_full.jpg'},\n",
       " {'Title': 'Valles Marineris Hemisphere Enhanced',\n",
       "  'url': 'https://marshemispheres.com/images/b3c7c6c9138f57b4756be9b9c43e3a48_valles_marineris_enhanced.tif_full.jpg'}]"
      ]
     },
     "execution_count": 10,
     "metadata": {},
     "output_type": "execute_result"
    }
   ],
   "source": [
    "hemispheres()"
   ]
  },
  {
   "cell_type": "code",
   "execution_count": 11,
   "metadata": {},
   "outputs": [],
   "source": [
    "def scrape():\n",
    "    data = {\"Title & Paragraph\":mars_news(),\n",
    "            \"Feautured Image\":featured(),\n",
    "            \"Mars Facts\": mars_facts(),\n",
    "            \"Hemispheres\":hemispheres()}\n",
    "    return(data)"
   ]
  },
  {
   "cell_type": "code",
   "execution_count": 12,
   "metadata": {},
   "outputs": [
    {
     "data": {
      "text/plain": [
       "{'Title & Paragraph': \"NASA Engineers Checking InSight's Weather Sensors: An electronics issue is suspected to be preventing the sensors from sharing their data about Mars weather with the spacecraft.\",\n",
       " 'Feautured Image': 'https://spaceimages-mars.com/image/featured/mars3.jpg',\n",
       " 'Mars Facts': <html><body><table border=\"1\" class=\"dataframe\">\n",
       " <thead>\n",
       " <tr style=\"text-align: right;\">\n",
       " <th></th>\n",
       " <th>0</th>\n",
       " <th>1</th>\n",
       " </tr>\n",
       " </thead>\n",
       " <tbody>\n",
       " <tr>\n",
       " <th>0</th>\n",
       " <td>Equatorial Diameter:</td>\n",
       " <td>6,792 km</td>\n",
       " </tr>\n",
       " <tr>\n",
       " <th>1</th>\n",
       " <td>Polar Diameter:</td>\n",
       " <td>6,752 km</td>\n",
       " </tr>\n",
       " <tr>\n",
       " <th>2</th>\n",
       " <td>Mass:</td>\n",
       " <td>6.39 × 10^23 kg (0.11 Earths)</td>\n",
       " </tr>\n",
       " <tr>\n",
       " <th>3</th>\n",
       " <td>Moons:</td>\n",
       " <td>2 ( Phobos &amp; Deimos )</td>\n",
       " </tr>\n",
       " <tr>\n",
       " <th>4</th>\n",
       " <td>Orbit Distance:</td>\n",
       " <td>227,943,824 km (1.38 AU)</td>\n",
       " </tr>\n",
       " <tr>\n",
       " <th>5</th>\n",
       " <td>Orbit Period:</td>\n",
       " <td>687 days (1.9 years)</td>\n",
       " </tr>\n",
       " <tr>\n",
       " <th>6</th>\n",
       " <td>Surface Temperature:</td>\n",
       " <td>-87 to -5 °C</td>\n",
       " </tr>\n",
       " <tr>\n",
       " <th>7</th>\n",
       " <td>First Record:</td>\n",
       " <td>2nd millennium BC</td>\n",
       " </tr>\n",
       " <tr>\n",
       " <th>8</th>\n",
       " <td>Recorded By:</td>\n",
       " <td>Egyptian astronomers</td>\n",
       " </tr>\n",
       " </tbody>\n",
       " </table></body></html>,\n",
       " 'Hemispheres': [{'Title': 'Cerberus Hemisphere Enhanced',\n",
       "   'url': 'https://marshemispheres.com/images/f5e372a36edfa389625da6d0cc25d905_cerberus_enhanced.tif_full.jpg'},\n",
       "  {'Title': 'Schiaparelli Hemisphere Enhanced',\n",
       "   'url': 'https://marshemispheres.com/images/3778f7b43bbbc89d6e3cfabb3613ba93_schiaparelli_enhanced.tif_full.jpg'},\n",
       "  {'Title': 'Syrtis Major Hemisphere Enhanced',\n",
       "   'url': 'https://marshemispheres.com/images/555e6403a6ddd7ba16ddb0e471cadcf7_syrtis_major_enhanced.tif_full.jpg'},\n",
       "  {'Title': 'Valles Marineris Hemisphere Enhanced',\n",
       "   'url': 'https://marshemispheres.com/images/b3c7c6c9138f57b4756be9b9c43e3a48_valles_marineris_enhanced.tif_full.jpg'}]}"
      ]
     },
     "execution_count": 12,
     "metadata": {},
     "output_type": "execute_result"
    }
   ],
   "source": [
    "scrape()"
   ]
  },
  {
   "cell_type": "code",
   "execution_count": 13,
   "metadata": {},
   "outputs": [],
   "source": [
    "browser.quit()"
   ]
  },
  {
   "cell_type": "code",
   "execution_count": null,
   "metadata": {},
   "outputs": [],
   "source": []
  },
  {
   "cell_type": "code",
   "execution_count": null,
   "metadata": {},
   "outputs": [],
   "source": []
  }
 ],
 "metadata": {
  "kernelspec": {
   "display_name": "Python [conda env:PythonData]",
   "language": "python",
   "name": "conda-env-PythonData-py"
  },
  "language_info": {
   "codemirror_mode": {
    "name": "ipython",
    "version": 3
   },
   "file_extension": ".py",
   "mimetype": "text/x-python",
   "name": "python",
   "nbconvert_exporter": "python",
   "pygments_lexer": "ipython3",
   "version": "3.6.10"
  }
 },
 "nbformat": 4,
 "nbformat_minor": 4
}
